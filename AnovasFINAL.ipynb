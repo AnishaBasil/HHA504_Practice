{
  "nbformat": 4,
  "nbformat_minor": 0,
  "metadata": {
    "colab": {
      "name": "Anovas",
      "provenance": [],
      "collapsed_sections": [],
      "include_colab_link": true
    },
    "kernelspec": {
      "name": "python3",
      "display_name": "Python 3"
    },
    "language_info": {
      "name": "python"
    }
  },
  "cells": [
    {
      "cell_type": "markdown",
      "metadata": {
        "id": "view-in-github",
        "colab_type": "text"
      },
      "source": [
        "<a href=\"https://colab.research.google.com/github/AnishaBasil/HHA504_Practice/blob/master/AnovasFINAL.ipynb\" target=\"_parent\"><img src=\"https://colab.research.google.com/assets/colab-badge.svg\" alt=\"Open In Colab\"/></a>"
      ]
    },
    {
      "cell_type": "code",
      "metadata": {
        "id": "hPacVumV-57j",
        "colab": {
          "base_uri": "https://localhost:8080/"
        },
        "outputId": "0f02de2a-d4df-4742-f01f-a5e72cc47bdb"
      },
      "source": [
        "import pandas as pd\n",
        "import scipy.stats as stats\n",
        "import statsmodels.formula.api as smf\n",
        "from scipy.stats import f_oneway\n",
        "import matplotlib.pyplot as plt\n",
        "from scipy.stats import kurtosis, skew, bartlett\n",
        "import statsmodels.stats.multicomp as mc\n",
        "import numpy as np\n",
        "import seaborn as sns\n",
        "import statsmodels.api as sm\n",
        "from statsmodels.formula.api import ols"
      ],
      "execution_count": null,
      "outputs": [
        {
          "output_type": "stream",
          "name": "stderr",
          "text": [
            "/usr/local/lib/python3.7/dist-packages/statsmodels/tools/_testing.py:19: FutureWarning: pandas.util.testing is deprecated. Use the functions in the public API at pandas.testing instead.\n",
            "  import pandas.util.testing as tm\n"
          ]
        }
      ]
    },
    {
      "cell_type": "markdown",
      "metadata": {
        "id": "dhq49iXqj89R"
      },
      "source": [
        "Importing dataframe to be analyzed "
      ]
    },
    {
      "cell_type": "code",
      "metadata": {
        "colab": {
          "base_uri": "https://localhost:8080/",
          "height": 419
        },
        "id": "TSY66OJlzo0r",
        "outputId": "60144dd5-7f79-40fb-9f77-8d47791a23f4"
      },
      "source": [
        "df1 = pd.read_csv('insurance.csv')\n",
        "df1 "
      ],
      "execution_count": null,
      "outputs": [
        {
          "output_type": "execute_result",
          "data": {
            "text/html": [
              "<div>\n",
              "<style scoped>\n",
              "    .dataframe tbody tr th:only-of-type {\n",
              "        vertical-align: middle;\n",
              "    }\n",
              "\n",
              "    .dataframe tbody tr th {\n",
              "        vertical-align: top;\n",
              "    }\n",
              "\n",
              "    .dataframe thead th {\n",
              "        text-align: right;\n",
              "    }\n",
              "</style>\n",
              "<table border=\"1\" class=\"dataframe\">\n",
              "  <thead>\n",
              "    <tr style=\"text-align: right;\">\n",
              "      <th></th>\n",
              "      <th>age</th>\n",
              "      <th>sex</th>\n",
              "      <th>bmi</th>\n",
              "      <th>children</th>\n",
              "      <th>smoker</th>\n",
              "      <th>region</th>\n",
              "      <th>charges</th>\n",
              "    </tr>\n",
              "  </thead>\n",
              "  <tbody>\n",
              "    <tr>\n",
              "      <th>0</th>\n",
              "      <td>19</td>\n",
              "      <td>female</td>\n",
              "      <td>27.900</td>\n",
              "      <td>0</td>\n",
              "      <td>yes</td>\n",
              "      <td>southwest</td>\n",
              "      <td>16884.92400</td>\n",
              "    </tr>\n",
              "    <tr>\n",
              "      <th>1</th>\n",
              "      <td>18</td>\n",
              "      <td>male</td>\n",
              "      <td>33.770</td>\n",
              "      <td>1</td>\n",
              "      <td>no</td>\n",
              "      <td>southeast</td>\n",
              "      <td>1725.55230</td>\n",
              "    </tr>\n",
              "    <tr>\n",
              "      <th>2</th>\n",
              "      <td>28</td>\n",
              "      <td>male</td>\n",
              "      <td>33.000</td>\n",
              "      <td>3</td>\n",
              "      <td>no</td>\n",
              "      <td>southeast</td>\n",
              "      <td>4449.46200</td>\n",
              "    </tr>\n",
              "    <tr>\n",
              "      <th>3</th>\n",
              "      <td>33</td>\n",
              "      <td>male</td>\n",
              "      <td>22.705</td>\n",
              "      <td>0</td>\n",
              "      <td>no</td>\n",
              "      <td>northwest</td>\n",
              "      <td>21984.47061</td>\n",
              "    </tr>\n",
              "    <tr>\n",
              "      <th>4</th>\n",
              "      <td>32</td>\n",
              "      <td>male</td>\n",
              "      <td>28.880</td>\n",
              "      <td>0</td>\n",
              "      <td>no</td>\n",
              "      <td>northwest</td>\n",
              "      <td>3866.85520</td>\n",
              "    </tr>\n",
              "    <tr>\n",
              "      <th>...</th>\n",
              "      <td>...</td>\n",
              "      <td>...</td>\n",
              "      <td>...</td>\n",
              "      <td>...</td>\n",
              "      <td>...</td>\n",
              "      <td>...</td>\n",
              "      <td>...</td>\n",
              "    </tr>\n",
              "    <tr>\n",
              "      <th>1333</th>\n",
              "      <td>50</td>\n",
              "      <td>male</td>\n",
              "      <td>30.970</td>\n",
              "      <td>3</td>\n",
              "      <td>no</td>\n",
              "      <td>northwest</td>\n",
              "      <td>10600.54830</td>\n",
              "    </tr>\n",
              "    <tr>\n",
              "      <th>1334</th>\n",
              "      <td>18</td>\n",
              "      <td>female</td>\n",
              "      <td>31.920</td>\n",
              "      <td>0</td>\n",
              "      <td>no</td>\n",
              "      <td>northeast</td>\n",
              "      <td>2205.98080</td>\n",
              "    </tr>\n",
              "    <tr>\n",
              "      <th>1335</th>\n",
              "      <td>18</td>\n",
              "      <td>female</td>\n",
              "      <td>36.850</td>\n",
              "      <td>0</td>\n",
              "      <td>no</td>\n",
              "      <td>southeast</td>\n",
              "      <td>1629.83350</td>\n",
              "    </tr>\n",
              "    <tr>\n",
              "      <th>1336</th>\n",
              "      <td>21</td>\n",
              "      <td>female</td>\n",
              "      <td>25.800</td>\n",
              "      <td>0</td>\n",
              "      <td>no</td>\n",
              "      <td>southwest</td>\n",
              "      <td>2007.94500</td>\n",
              "    </tr>\n",
              "    <tr>\n",
              "      <th>1337</th>\n",
              "      <td>61</td>\n",
              "      <td>female</td>\n",
              "      <td>29.070</td>\n",
              "      <td>0</td>\n",
              "      <td>yes</td>\n",
              "      <td>northwest</td>\n",
              "      <td>29141.36030</td>\n",
              "    </tr>\n",
              "  </tbody>\n",
              "</table>\n",
              "<p>1338 rows × 7 columns</p>\n",
              "</div>"
            ],
            "text/plain": [
              "      age     sex     bmi  children smoker     region      charges\n",
              "0      19  female  27.900         0    yes  southwest  16884.92400\n",
              "1      18    male  33.770         1     no  southeast   1725.55230\n",
              "2      28    male  33.000         3     no  southeast   4449.46200\n",
              "3      33    male  22.705         0     no  northwest  21984.47061\n",
              "4      32    male  28.880         0     no  northwest   3866.85520\n",
              "...   ...     ...     ...       ...    ...        ...          ...\n",
              "1333   50    male  30.970         3     no  northwest  10600.54830\n",
              "1334   18  female  31.920         0     no  northeast   2205.98080\n",
              "1335   18  female  36.850         0     no  southeast   1629.83350\n",
              "1336   21  female  25.800         0     no  southwest   2007.94500\n",
              "1337   61  female  29.070         0    yes  northwest  29141.36030\n",
              "\n",
              "[1338 rows x 7 columns]"
            ]
          },
          "metadata": {},
          "execution_count": 3
        }
      ]
    },
    {
      "cell_type": "markdown",
      "metadata": {
        "id": "UGkdR4pPkDIe"
      },
      "source": [
        "Generating a list of columns within the dataframe to identify variables for ANOVA tests "
      ]
    },
    {
      "cell_type": "code",
      "metadata": {
        "colab": {
          "base_uri": "https://localhost:8080/"
        },
        "id": "wnPyG-Q9SRa5",
        "outputId": "aa6f676c-713f-4b30-95b6-ea31f38cb8ac"
      },
      "source": [
        "list(df1)"
      ],
      "execution_count": null,
      "outputs": [
        {
          "output_type": "execute_result",
          "data": {
            "text/plain": [
              "['age', 'sex', 'bmi', 'children', 'smoker', 'region', 'charges']"
            ]
          },
          "metadata": {},
          "execution_count": 4
        }
      ]
    },
    {
      "cell_type": "markdown",
      "metadata": {
        "id": "fJoYWwMPBbR4"
      },
      "source": [
        "\n",
        "\n",
        "\n",
        "\n",
        "Age: age of primary beneficiary\n",
        "\n",
        "\n",
        "Gender: 2 parameters (female, male)\n",
        "\n",
        "\n",
        "Bmi:  Body mass index, providing an understanding of body, weights that are relatively high or low relative to height, objective index of body weight (kg / m ^ 2) using the ratio of height to weight, ideally 18.5 to 24.9 \n",
        "\n",
        "\n",
        "Children: Number of children covered by health insurance or Number of dependents\n",
        "\n",
        "\n",
        "Smoking status: yes or no \n",
        "\n",
        "\n",
        "Charges: Individual medical costs billed by health insurance\n",
        "\n",
        "Region: southwest, southeast, northwest, northeast \n",
        "______\n",
        "\n",
        "\n",
        "\n"
      ]
    },
    {
      "cell_type": "code",
      "metadata": {
        "id": "J2d2Kbq3BD2H"
      },
      "source": [
        "df1['sex'] = df1['sex'].replace(np.NaN, 'Other')"
      ],
      "execution_count": null,
      "outputs": []
    },
    {
      "cell_type": "code",
      "metadata": {
        "colab": {
          "base_uri": "https://localhost:8080/"
        },
        "id": "8cRgk5WRBQaP",
        "outputId": "389696a6-ddd9-442e-e156-4dfa33e18c86"
      },
      "source": [
        "df1.sex.value_counts()"
      ],
      "execution_count": null,
      "outputs": [
        {
          "output_type": "execute_result",
          "data": {
            "text/plain": [
              "male      676\n",
              "female    662\n",
              "Name: sex, dtype: int64"
            ]
          },
          "metadata": {},
          "execution_count": 6
        }
      ]
    },
    {
      "cell_type": "code",
      "metadata": {
        "colab": {
          "base_uri": "https://localhost:8080/"
        },
        "id": "gS2wWANpCGWE",
        "outputId": "80745083-827d-4078-ffaf-17f7d0abef12"
      },
      "source": [
        "df1.region.value_counts()"
      ],
      "execution_count": null,
      "outputs": [
        {
          "output_type": "execute_result",
          "data": {
            "text/plain": [
              "southeast    364\n",
              "southwest    325\n",
              "northwest    325\n",
              "northeast    324\n",
              "Name: region, dtype: int64"
            ]
          },
          "metadata": {},
          "execution_count": 7
        }
      ]
    },
    {
      "cell_type": "code",
      "metadata": {
        "colab": {
          "base_uri": "https://localhost:8080/"
        },
        "id": "eVquQ31VCOJm",
        "outputId": "b3b6cbea-75e2-4cb8-e012-0aa72b760e86"
      },
      "source": [
        "df1.children.value_counts()"
      ],
      "execution_count": null,
      "outputs": [
        {
          "output_type": "execute_result",
          "data": {
            "text/plain": [
              "0    574\n",
              "1    324\n",
              "2    240\n",
              "3    157\n",
              "4     25\n",
              "5     18\n",
              "Name: children, dtype: int64"
            ]
          },
          "metadata": {},
          "execution_count": 8
        }
      ]
    },
    {
      "cell_type": "markdown",
      "metadata": {
        "id": "ialNs5Ug5n1l"
      },
      "source": [
        "DV- Insurance Charges\n",
        "\n",
        "\n",
        "IV- Gender, Smoking status, Region \n"
      ]
    },
    {
      "cell_type": "code",
      "metadata": {
        "colab": {
          "base_uri": "https://localhost:8080/",
          "height": 279
        },
        "id": "2ziS5IynkyZQ",
        "outputId": "4ad93943-7b54-48e6-e342-0d0ec5f49e09"
      },
      "source": [
        "boxplot = sns.boxplot(x='bmi', y= 'region', data=df1, palette=\"Set3\")"
      ],
      "execution_count": null,
      "outputs": [
        {
          "output_type": "display_data",
          "data": {
            "image/png": "[encoded data removed]",
            "text/plain": [
              "<Figure size 432x288 with 1 Axes>"
            ]
          },
          "metadata": {
            "needs_background": "light"
          }
        }
      ]
    },
    {
      "cell_type": "code",
      "metadata": {
        "colab": {
          "base_uri": "https://localhost:8080/",
          "height": 279
        },
        "id": "5vg7KdEglj5X",
        "outputId": "df041da3-2aa3-49b3-c9b4-76c79b760c59"
      },
      "source": [
        "boxplot = sns.boxplot(x='bmi', y= 'charges', data=df1, palette=\"Set3\")"
      ],
      "execution_count": null,
      "outputs": [
        {
          "output_type": "display_data",
          "data": {
            "image/png": "[encoded data removed]",
            "text/plain": [
              "<Figure size 432x288 with 1 Axes>"
            ]
          },
          "metadata": {
            "needs_background": "light"
          }
        }
      ]
    },
    {
      "cell_type": "code",
      "metadata": {
        "id": "idIE4jJXs0TA"
      },
      "source": [
        "smoker_status1 = df1[df1['smoker'] == 'yes']\n",
        "smoker_status2 = df1[df1['smoker'] == 'no']"
      ],
      "execution_count": null,
      "outputs": []
    },
    {
      "cell_type": "code",
      "metadata": {
        "colab": {
          "base_uri": "https://localhost:8080/",
          "height": 513
        },
        "id": "AoZdK1bArYfN",
        "outputId": "ff010648-4f0c-4d26-bae5-faa157f3b5f1"
      },
      "source": [
        "plt.hist(smoker_status1['age'])\n",
        "plt.show()\n",
        "plt.hist(smoker_status2['age'])\n",
        "plt.show()"
      ],
      "execution_count": null,
      "outputs": [
        {
          "output_type": "display_data",
          "data": {
            "image/png": "[encoded data removed]",
            "text/plain": [
              "<Figure size 432x288 with 1 Axes>"
            ]
          },
          "metadata": {
            "needs_background": "light"
          }
        },
        {
          "output_type": "display_data",
          "data": {
            "image/png": "[encoded data removed]",
            "text/plain": [
              "<Figure size 432x288 with 1 Axes>"
            ]
          },
          "metadata": {
            "needs_background": "light"
          }
        }
      ]
    },
    {
      "cell_type": "markdown",
      "metadata": {
        "id": "3z7AojErTpdg"
      },
      "source": [
        "    \n",
        "\n",
        "---\n",
        "\n"
      ]
    },
    {
      "cell_type": "markdown",
      "metadata": {
        "id": "X5ayp28F7E7y"
      },
      "source": [
        "# **Anovas**\n"
      ]
    },
    {
      "cell_type": "code",
      "metadata": {
        "id": "owOShA-G7Ke5",
        "colab": {
          "base_uri": "https://localhost:8080/"
        },
        "outputId": "068918ab-77e7-43ee-de41-ad6418ddc55a"
      },
      "source": [
        "stats.f_oneway(df1['charges'][df1['region'] == 'northwest'],\n",
        "               df1['charges'][df1['region'] == 'northeast'],\n",
        "               df1['charges'][df1['region'] == 'southeast'],                                    \n",
        "               df1['charges'][df1['region'] == 'southwest'])"
      ],
      "execution_count": null,
      "outputs": [
        {
          "output_type": "execute_result",
          "data": {
            "text/plain": [
              "F_onewayResult(statistic=2.969626693589119, pvalue=0.0308933560705201)"
            ]
          },
          "metadata": {},
          "execution_count": 9
        }
      ]
    },
    {
      "cell_type": "markdown",
      "source": [
        "Question 1: Is there a difference in insurance charges among different regions? "
      ],
      "metadata": {
        "id": "QO1o_Lq7VL4M"
      }
    },
    {
      "cell_type": "markdown",
      "metadata": {
        "id": "y3o2CZY6T7N4"
      },
      "source": [
        "The result above (p<0.05) indicates that there is a significant difference in charges among different regions.\n"
      ]
    },
    {
      "cell_type": "code",
      "metadata": {
        "colab": {
          "base_uri": "https://localhost:8080/"
        },
        "id": "eR9g9i4yUDUs",
        "outputId": "c37bbdd9-4f53-4d5c-895d-b53d2651eebc"
      },
      "source": [
        "stats.f_oneway(df1['bmi'][df1['sex'] == 'male'],                                   \n",
        "               df1['bmi'][df1['sex'] == 'female'])"
      ],
      "execution_count": null,
      "outputs": [
        {
          "output_type": "execute_result",
          "data": {
            "text/plain": [
              "F_onewayResult(statistic=2.878969506932102, pvalue=0.08997637178992055)"
            ]
          },
          "metadata": {},
          "execution_count": 19
        }
      ]
    },
    {
      "cell_type": "code",
      "metadata": {
        "colab": {
          "base_uri": "https://localhost:8080/"
        },
        "id": "frIiFQDbWr9Q",
        "outputId": "c429253d-f5e6-4a46-8c9a-2f3e38a9acbf"
      },
      "source": [
        "model1 = smf.ols(\"sex ~ C(bmi)\", data = df1).fit()\n",
        "stats.shapiro(model1.resid)"
      ],
      "execution_count": null,
      "outputs": [
        {
          "output_type": "execute_result",
          "data": {
            "text/plain": [
              "(0.9591031074523926, 8.120863877551575e-27)"
            ]
          },
          "metadata": {},
          "execution_count": 11
        }
      ]
    },
    {
      "cell_type": "markdown",
      "source": [
        "Question 2: Is there a difference between an individuals bmi and their sex?"
      ],
      "metadata": {
        "id": "KZOGYaW4Vng8"
      }
    },
    {
      "cell_type": "markdown",
      "metadata": {
        "id": "Abzh9AsXXmp2"
      },
      "source": [
        "The p value is less than 0.05 so theres is a significant difference between sex and bmi"
      ]
    },
    {
      "cell_type": "code",
      "metadata": {
        "colab": {
          "base_uri": "https://localhost:8080/"
        },
        "id": "7IZOnmW_Xpjh",
        "outputId": "8f5fca7d-8f26-4554-97e5-57f6c6fbba7f"
      },
      "source": [
        "model1 = smf.ols(\"sex ~ C(smoker)\", data = df1).fit()\n",
        "stats.shapiro(model1.resid)"
      ],
      "execution_count": null,
      "outputs": [
        {
          "output_type": "execute_result",
          "data": {
            "text/plain": [
              "(0.6982505917549133, 0.0)"
            ]
          },
          "metadata": {},
          "execution_count": 25
        }
      ]
    },
    {
      "cell_type": "markdown",
      "source": [
        "Question 3: Is there a difference between sex and being a smoker?"
      ],
      "metadata": {
        "id": "9_I0mv2uV0A9"
      }
    },
    {
      "cell_type": "markdown",
      "metadata": {
        "id": "Vwni_BalhTef"
      },
      "source": [
        "There is a significant difference, rejecting the null hypothesis"
      ]
    },
    {
      "cell_type": "markdown",
      "metadata": {
        "id": "17YP-LRATtLq"
      },
      "source": [
        "# POST_HOC_RES"
      ]
    },
    {
      "cell_type": "code",
      "metadata": {
        "id": "ZRzcR23hhkz2"
      },
      "source": [
        "import statsmodels.stats.multicomp as mc\n",
        "comp1 = mc.MultiComparison(df1['bmi'], df1['region'])\n",
        "post_hoc_res = comp1.tukeyhsd() \n",
        "tukeyway1 = post_hoc_res.summary()"
      ],
      "execution_count": null,
      "outputs": []
    },
    {
      "cell_type": "code",
      "metadata": {
        "id": "cq6R9qxYiIhA"
      },
      "source": [
        "import statsmodels.stats.multicomp as mc\n",
        "comp2 = mc.MultiComparison(df1['bmi'], df1['age'])\n",
        "post_hoc_res = comp2.tukeyhsd() \n",
        "tukeyway2 = post_hoc_res.summary()"
      ],
      "execution_count": null,
      "outputs": []
    },
    {
      "cell_type": "code",
      "metadata": {
        "id": "9uofvAGdiLvK"
      },
      "source": [
        "import statsmodels.stats.multicomp as mc\n",
        "comp3 = mc.MultiComparison(df1['bmi'], df1['children'])\n",
        "post_hoc_res = comp3.tukeyhsd() \n",
        "tukeyway3 = post_hoc_res.summary()"
      ],
      "execution_count": null,
      "outputs": []
    },
    {
      "cell_type": "code",
      "metadata": {
        "colab": {
          "base_uri": "https://localhost:8080/"
        },
        "id": "n8Qi25HIipU5",
        "outputId": "d68323dd-8f7e-47bb-c233-659b3d673a4c"
      },
      "source": [
        "import statsmodels.stats.multicomp as mc\n",
        "comp4 = mc.MultiComparison(df1['bmi'], df1['smoker'])\n",
        "post_hoc_res = comp4.tukeyhsd() \n",
        "tukeyway4 = post_hoc_res.summary()"
      ],
      "execution_count": null,
      "outputs": [
        {
          "output_type": "stream",
          "name": "stderr",
          "text": [
            "/usr/local/lib/python3.7/dist-packages/numpy/core/fromnumeric.py:87: VisibleDeprecationWarning: Creating an ndarray from ragged nested sequences (which is a list-or-tuple of lists-or-tuples-or ndarrays with different lengths or shapes) is deprecated. If you meant to do this, you must specify 'dtype=object' when creating the ndarray\n",
            "  return ufunc.reduce(obj, axis, dtype, out, **passkwargs)\n"
          ]
        }
      ]
    }
  ]
}